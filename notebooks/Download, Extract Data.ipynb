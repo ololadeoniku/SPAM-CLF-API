{
 "cells": [
  {
   "cell_type": "code",
   "execution_count": 1,
   "metadata": {},
   "outputs": [],
   "source": [
    "from pathlib import Path"
   ]
  },
  {
   "cell_type": "code",
   "execution_count": 2,
   "metadata": {},
   "outputs": [],
   "source": [
    "BASE_DIR = Path().resolve()\n",
    "# BASE_DIR = str(BASE_DIR).replace('My Drive', '\"My Drive\"')\n",
    "DATASET_DIR = BASE_DIR / \"datasets\"\n",
    "ZIPS_DIR = DATASET_DIR / \"zips\"\n",
    "ZIPS_DIR.mkdir(exist_ok=True, parents=True)\n",
    "SMS_SPAM_ZIP_PATH = ZIPS_DIR / \"sms-spam-data.zip\"\n",
    "SMS_SPAM_ZIP_PATH_S = SMS_SPAM_ZIP_PATH.as_posix().replace('My Drive', '\"My Drive\"')\n",
    "YOUTUBE_SPAM_ZIP_PATH = ZIPS_DIR / \"youtube-spam-data.zip\"\n",
    "YOUTUBE_SPAM_ZIP_PATH_S = YOUTUBE_SPAM_ZIP_PATH.as_posix().replace('My Drive', '\"My Drive\"')"
   ]
  },
  {
   "cell_type": "code",
   "execution_count": 3,
   "metadata": {},
   "outputs": [],
   "source": [
    "SMS_SPAM_ZIP = \"https://archive.ics.uci.edu/ml/machine-learning-databases/00228/smsspamcollection.zip\"\n",
    "YOUTUBE_SPAM_ZIP = 'https://archive.ics.uci.edu/ml/machine-learning-databases/00380/YouTube-Spam-Collection-v1.zip'"
   ]
  },
  {
   "cell_type": "code",
   "execution_count": 4,
   "metadata": {},
   "outputs": [
    {
     "name": "stdout",
     "output_type": "stream",
     "text": [
      "  % Total    % Received % Xferd  Average Speed   Time    Time     Time  Current\n",
      "                                 Dload  Upload   Total   Spent    Left  Speed\n",
      "100  198k  100  198k    0     0    98k      0  0:00:02  0:00:02 --:--:--   98k\n"
     ]
    }
   ],
   "source": [
    "!curl $SMS_SPAM_ZIP -o $SMS_SPAM_ZIP_PATH_S"
   ]
  },
  {
   "cell_type": "code",
   "execution_count": 5,
   "metadata": {},
   "outputs": [
    {
     "name": "stdout",
     "output_type": "stream",
     "text": [
      "  % Total    % Received % Xferd  Average Speed   Time    Time     Time  Current\n",
      "                                 Dload  Upload   Total   Spent    Left  Speed\n",
      "100  159k  100  159k    0     0   311k      0 --:--:-- --:--:-- --:--:--  311k\n"
     ]
    }
   ],
   "source": [
    "!curl $YOUTUBE_SPAM_ZIP -o $YOUTUBE_SPAM_ZIP_PATH_S"
   ]
  },
  {
   "cell_type": "code",
   "execution_count": 11,
   "metadata": {},
   "outputs": [],
   "source": [
    "SPAM_CLASSIFIER_DIR = DATASET_DIR / \"spam-classifier\"\n",
    "SMS_SPAM_DIR = SPAM_CLASSIFIER_DIR / \"sms-spam\"\n",
    "YOUTUBE_SPAM_DIR = SPAM_CLASSIFIER_DIR / \"youtube-spam\"\n",
    "\n",
    "SMS_SPAM_DIR.mkdir(exist_ok=True, parents=True)\n",
    "YOUTUBE_SPAM_DIR.mkdir(exist_ok=True, parents=True)\n",
    "SMS_SPAM_DIR_S = SMS_SPAM_DIR.as_posix().replace('My Drive', '\"My Drive\"')\n",
    "YOUTUBE_SPAM_DIR_S = YOUTUBE_SPAM_DIR.as_posix().replace('My Drive', '\"My Drive\"')"
   ]
  },
  {
   "cell_type": "code",
   "execution_count": 12,
   "metadata": {},
   "outputs": [
    {
     "name": "stdout",
     "output_type": "stream",
     "text": [
      "Archive:  /Volumes/GoogleDrive/My Drive/Projects/DEV/spam-api/datasets/zips/sms-spam-data.zip\n",
      "  inflating: /Volumes/GoogleDrive/My Drive/Projects/DEV/spam-api/datasets/spam-classifier/sms-spam/SMSSpamCollection  \n",
      "  inflating: /Volumes/GoogleDrive/My Drive/Projects/DEV/spam-api/datasets/spam-classifier/sms-spam/readme  \n"
     ]
    }
   ],
   "source": [
    "!unzip -o $SMS_SPAM_ZIP_PATH -d $SMS_SPAM_DIR_S"
   ]
  },
  {
   "cell_type": "code",
   "execution_count": 13,
   "metadata": {},
   "outputs": [
    {
     "name": "stdout",
     "output_type": "stream",
     "text": [
      "Archive:  /Volumes/GoogleDrive/My Drive/Projects/DEV/spam-api/datasets/zips/youtube-spam-data.zip\n",
      "  inflating: /Volumes/GoogleDrive/My Drive/Projects/DEV/spam-api/datasets/spam-classifier/youtube-spam/Youtube01-Psy.csv  \n",
      "  inflating: /Volumes/GoogleDrive/My Drive/Projects/DEV/spam-api/datasets/spam-classifier/youtube-spam/__MACOSX/._Youtube01-Psy.csv  \n",
      "  inflating: /Volumes/GoogleDrive/My Drive/Projects/DEV/spam-api/datasets/spam-classifier/youtube-spam/Youtube02-KatyPerry.csv  \n",
      "  inflating: /Volumes/GoogleDrive/My Drive/Projects/DEV/spam-api/datasets/spam-classifier/youtube-spam/__MACOSX/._Youtube02-KatyPerry.csv  \n",
      "  inflating: /Volumes/GoogleDrive/My Drive/Projects/DEV/spam-api/datasets/spam-classifier/youtube-spam/Youtube03-LMFAO.csv  \n",
      "  inflating: /Volumes/GoogleDrive/My Drive/Projects/DEV/spam-api/datasets/spam-classifier/youtube-spam/__MACOSX/._Youtube03-LMFAO.csv  \n",
      "  inflating: /Volumes/GoogleDrive/My Drive/Projects/DEV/spam-api/datasets/spam-classifier/youtube-spam/Youtube04-Eminem.csv  \n",
      "  inflating: /Volumes/GoogleDrive/My Drive/Projects/DEV/spam-api/datasets/spam-classifier/youtube-spam/__MACOSX/._Youtube04-Eminem.csv  \n",
      "  inflating: /Volumes/GoogleDrive/My Drive/Projects/DEV/spam-api/datasets/spam-classifier/youtube-spam/Youtube05-Shakira.csv  \n",
      "  inflating: /Volumes/GoogleDrive/My Drive/Projects/DEV/spam-api/datasets/spam-classifier/youtube-spam/__MACOSX/._Youtube05-Shakira.csv  \n"
     ]
    }
   ],
   "source": [
    "!unzip -o $YOUTUBE_SPAM_ZIP_PATH -d $YOUTUBE_SPAM_DIR_S"
   ]
  },
  {
   "cell_type": "code",
   "execution_count": null,
   "metadata": {},
   "outputs": [],
   "source": [
    "*"
   ]
  }
 ],
 "metadata": {
  "kernelspec": {
   "display_name": "Python 3",
   "language": "python",
   "name": "python3"
  },
  "language_info": {
   "codemirror_mode": {
    "name": "ipython",
    "version": 3
   },
   "file_extension": ".py",
   "mimetype": "text/x-python",
   "name": "python",
   "nbconvert_exporter": "python",
   "pygments_lexer": "ipython3",
   "version": "3.7.3"
  }
 },
 "nbformat": 4,
 "nbformat_minor": 4
}
