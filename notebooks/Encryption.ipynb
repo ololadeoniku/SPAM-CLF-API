{
 "cells": [
  {
   "cell_type": "code",
   "execution_count": 1,
   "metadata": {},
   "outputs": [
    {
     "name": "stdout",
     "output_type": "stream",
     "text": [
      "Requirement already satisfied: cryptography in /Users/davidoniku/anaconda3/lib/python3.7/site-packages (2.7)\n",
      "Requirement already satisfied: cffi!=1.11.3,>=1.8 in /Users/davidoniku/anaconda3/lib/python3.7/site-packages (from cryptography) (1.12.3)\n",
      "Requirement already satisfied: asn1crypto>=0.21.0 in /Users/davidoniku/anaconda3/lib/python3.7/site-packages (from cryptography) (0.24.0)\n",
      "Requirement already satisfied: six>=1.4.1 in /Users/davidoniku/anaconda3/lib/python3.7/site-packages (from cryptography) (1.15.0)\n",
      "Requirement already satisfied: pycparser in /Users/davidoniku/anaconda3/lib/python3.7/site-packages (from cffi!=1.11.3,>=1.8->cryptography) (2.19)\n"
     ]
    }
   ],
   "source": [
    "!pip install cryptography"
   ]
  },
  {
   "cell_type": "code",
   "execution_count": 1,
   "metadata": {},
   "outputs": [],
   "source": [
    "from cryptography .fernet import Fernet"
   ]
  },
  {
   "cell_type": "code",
   "execution_count": 2,
   "metadata": {},
   "outputs": [],
   "source": [
    "key = Fernet.generate_key().decode(\"UTF-8\")"
   ]
  },
  {
   "cell_type": "code",
   "execution_count": 3,
   "metadata": {},
   "outputs": [
    {
     "data": {
      "text/plain": [
       "'oblBjDkOWm1w5Y9Taa3CEyOMteZQDN3l90kksssNlos='"
      ]
     },
     "execution_count": 3,
     "metadata": {},
     "output_type": "execute_result"
    }
   ],
   "source": [
    "key"
   ]
  },
  {
   "cell_type": "code",
   "execution_count": 5,
   "metadata": {},
   "outputs": [],
   "source": [
    "from pathlib import Path"
   ]
  },
  {
   "cell_type": "code",
   "execution_count": 11,
   "metadata": {},
   "outputs": [],
   "source": [
    "BASE_DIR = Path().resolve().parent\n",
    "APP_DIR = BASE_DIR / \"app\"\n",
    "IGNORED_DIR = APP_DIR / \"ignored\"\n",
    "SECURE_DIR = APP_DIR / \"encrypted\"\n",
    "SECURE_DIR.mkdir(exist_ok=True, parents=True)\n",
    "DECRYPTED_DIR = APP_DIR / \"decrypted\"\n",
    "DECRYPTED_DIR.mkdir(exist_ok=True, parents=True)"
   ]
  },
  {
   "cell_type": "code",
   "execution_count": 12,
   "metadata": {},
   "outputs": [],
   "source": [
    "fer = Fernet(key)"
   ]
  },
  {
   "cell_type": "code",
   "execution_count": 16,
   "metadata": {},
   "outputs": [
    {
     "name": "stdout",
     "output_type": "stream",
     "text": [
      "/Volumes/GoogleDrive/My Drive/Projects/DEV/spam-api/app/ignored/astradb_connect.zip\n",
      "/Volumes/GoogleDrive/My Drive/Projects/DEV/spam-api/app/ignored\n",
      "astradb_connect.zip\n",
      "/Volumes/GoogleDrive/My Drive/Projects/DEV/spam-api/app/encrypted/astradb_connect.zip\n"
     ]
    }
   ],
   "source": [
    "for path in IGNORED_DIR.glob(\"*\"):\n",
    "    _path_bytes = path.read_bytes()\n",
    "    data = fer.encrypt(_path_bytes)\n",
    "    print(path)\n",
    "    print(IGNORED_DIR)\n",
    "    rel_path = path.relative_to(IGNORED_DIR)\n",
    "    print(rel_path)\n",
    "    dest_path = SECURE_DIR / rel_path\n",
    "    print(dest_path)\n",
    "    dest_path.write_bytes(data)"
   ]
  },
  {
   "cell_type": "code",
   "execution_count": 18,
   "metadata": {},
   "outputs": [
    {
     "name": "stdout",
     "output_type": "stream",
     "text": [
      "/Volumes/GoogleDrive/My Drive/Projects/DEV/spam-api/app/encrypted/astradb_connect.zip\n",
      "/Volumes/GoogleDrive/My Drive/Projects/DEV/spam-api/app/encrypted\n",
      "astradb_connect.zip\n",
      "/Volumes/GoogleDrive/My Drive/Projects/DEV/spam-api/app/decrypted/astradb_connect.zip\n"
     ]
    }
   ],
   "source": [
    "for path in SECURE_DIR.glob(\"*\"):\n",
    "    _path_bytes = path.read_bytes()\n",
    "    data = fer.decrypt(_path_bytes)\n",
    "    print(path)\n",
    "    print(SECURE_DIR)\n",
    "    rel_path = path.relative_to(SECURE_DIR)\n",
    "    print(rel_path)\n",
    "    dest_path = DECRYPTED_DIR / rel_path\n",
    "    print(dest_path)\n",
    "    dest_path.write_bytes(data)"
   ]
  },
  {
   "cell_type": "code",
   "execution_count": null,
   "metadata": {},
   "outputs": [],
   "source": []
  }
 ],
 "metadata": {
  "interpreter": {
   "hash": "dd27c11d63d9bbb1218d5ebaee7e96a75f0d708ecc94af8115b62c186fc3e26d"
  },
  "kernelspec": {
   "display_name": "Python 3.7.3 64-bit ('base': conda)",
   "name": "python3"
  },
  "language_info": {
   "codemirror_mode": {
    "name": "ipython",
    "version": 3
   },
   "file_extension": ".py",
   "mimetype": "text/x-python",
   "name": "python",
   "nbconvert_exporter": "python",
   "pygments_lexer": "ipython3",
   "version": "3.7.3"
  },
  "orig_nbformat": 4
 },
 "nbformat": 4,
 "nbformat_minor": 2
}
